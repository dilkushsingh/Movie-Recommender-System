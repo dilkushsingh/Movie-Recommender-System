{
 "cells": [
  {
   "cell_type": "code",
   "execution_count": 106,
   "metadata": {},
   "outputs": [],
   "source": [
    "import numpy as np\n",
    "import pandas as pd\n",
    "import ast\n",
    "from sklearn.feature_extraction.text import CountVectorizer\n",
    "from sklearn.metrics.pairwise import cosine_similarity\n",
    "import pickle"
   ]
  },
  {
   "cell_type": "code",
   "execution_count": 189,
   "metadata": {},
   "outputs": [],
   "source": [
    "df = pd.read_csv('movies.csv', encoding='utf-8', on_bad_lines='skip')"
   ]
  },
  {
   "cell_type": "code",
   "execution_count": 190,
   "metadata": {},
   "outputs": [
    {
     "data": {
      "text/plain": [
       "(5002, 18)"
      ]
     },
     "execution_count": 190,
     "metadata": {},
     "output_type": "execute_result"
    }
   ],
   "source": [
    "df.shape"
   ]
  },
  {
   "cell_type": "markdown",
   "metadata": {},
   "source": [
    "## Basic Overview of dataset"
   ]
  },
  {
   "cell_type": "code",
   "execution_count": 191,
   "metadata": {},
   "outputs": [
    {
     "data": {
      "text/html": [
       "<div>\n",
       "<style scoped>\n",
       "    .dataframe tbody tr th:only-of-type {\n",
       "        vertical-align: middle;\n",
       "    }\n",
       "\n",
       "    .dataframe tbody tr th {\n",
       "        vertical-align: top;\n",
       "    }\n",
       "\n",
       "    .dataframe thead th {\n",
       "        text-align: right;\n",
       "    }\n",
       "</style>\n",
       "<table border=\"1\" class=\"dataframe\">\n",
       "  <thead>\n",
       "    <tr style=\"text-align: right;\">\n",
       "      <th></th>\n",
       "      <th>adult</th>\n",
       "      <th>backdrop_path</th>\n",
       "      <th>genre_ids</th>\n",
       "      <th>id</th>\n",
       "      <th>original_language</th>\n",
       "      <th>original_title</th>\n",
       "      <th>overview</th>\n",
       "      <th>popularity</th>\n",
       "      <th>poster_path</th>\n",
       "      <th>release_date</th>\n",
       "      <th>title</th>\n",
       "      <th>video</th>\n",
       "      <th>vote_average</th>\n",
       "      <th>vote_count</th>\n",
       "      <th>cast</th>\n",
       "      <th>director</th>\n",
       "      <th>keywords</th>\n",
       "      <th>genre_names</th>\n",
       "    </tr>\n",
       "  </thead>\n",
       "  <tbody>\n",
       "    <tr>\n",
       "      <th>0</th>\n",
       "      <td>FALSE</td>\n",
       "      <td>/yDHYTfA3R0jFYba16jBB1ef8oIt.jpg</td>\n",
       "      <td>[28, 35, 878]</td>\n",
       "      <td>533535</td>\n",
       "      <td>en</td>\n",
       "      <td>Deadpool &amp; Wolverine</td>\n",
       "      <td>A listless Wade Wilson toils away in civilian ...</td>\n",
       "      <td>5464.692</td>\n",
       "      <td>/8cdWjvZQUExUUTzyp4t6EDMubfO.jpg</td>\n",
       "      <td>24-07-2024</td>\n",
       "      <td>Deadpool &amp; Wolverine</td>\n",
       "      <td>FALSE</td>\n",
       "      <td>7.800</td>\n",
       "      <td>2414.0</td>\n",
       "      <td>['Ryan Reynolds', 'Hugh Jackman', 'Emma Corrin']</td>\n",
       "      <td>Shawn Levy</td>\n",
       "      <td>['hero', 'superhero', 'anti hero', 'mutant', '...</td>\n",
       "      <td>['Action', 'Comedy', 'Science Fiction']</td>\n",
       "    </tr>\n",
       "    <tr>\n",
       "      <th>1</th>\n",
       "      <td>FALSE</td>\n",
       "      <td>/stKGOm8UyhuLPR9sZLjs5AkmncA.jpg</td>\n",
       "      <td>[16, 10751, 12, 35]</td>\n",
       "      <td>1022789</td>\n",
       "      <td>en</td>\n",
       "      <td>Inside Out 2</td>\n",
       "      <td>Teenager Riley's mind headquarters is undergoi...</td>\n",
       "      <td>2641.200</td>\n",
       "      <td>/vpnVM9B6NMmQpWeZvzLvDESb2QY.jpg</td>\n",
       "      <td>11-06-2024</td>\n",
       "      <td>Inside Out 2</td>\n",
       "      <td>FALSE</td>\n",
       "      <td>7.700</td>\n",
       "      <td>3024.0</td>\n",
       "      <td>['Amy Poehler', 'Maya Hawke', 'Kensington Tall...</td>\n",
       "      <td>Kelsey Mann</td>\n",
       "      <td>['sadness', 'disgust', 'sequel', 'computer ani...</td>\n",
       "      <td>['Animation', 'Family', 'Adventure', 'Comedy']</td>\n",
       "    </tr>\n",
       "    <tr>\n",
       "      <th>2</th>\n",
       "      <td>FALSE</td>\n",
       "      <td>/4ft6TR9wA6bra0RLL6G7JFDQ5t1.jpg</td>\n",
       "      <td>[28, 35]</td>\n",
       "      <td>704239</td>\n",
       "      <td>en</td>\n",
       "      <td>The Union</td>\n",
       "      <td>A New Jersey construction worker goes from reg...</td>\n",
       "      <td>1686.712</td>\n",
       "      <td>/d9CTnTHip1RbVi2OQbA2LJJQAGI.jpg</td>\n",
       "      <td>15-08-2024</td>\n",
       "      <td>The Union</td>\n",
       "      <td>FALSE</td>\n",
       "      <td>6.266</td>\n",
       "      <td>396.0</td>\n",
       "      <td>['Mark Wahlberg', 'Halle Berry', 'J.K. Simmons']</td>\n",
       "      <td>Julian Farino</td>\n",
       "      <td>['espionage', 'spy', 'old flame', 'miscegenati...</td>\n",
       "      <td>['Action', 'Comedy']</td>\n",
       "    </tr>\n",
       "    <tr>\n",
       "      <th>3</th>\n",
       "      <td>FALSE</td>\n",
       "      <td>/3q01ACG0MWm0DekhvkPFCXyPZSu.jpg</td>\n",
       "      <td>[28, 80, 53, 35]</td>\n",
       "      <td>573435</td>\n",
       "      <td>en</td>\n",
       "      <td>Bad Boys: Ride or Die</td>\n",
       "      <td>After their late former Captain is framed, Low...</td>\n",
       "      <td>1751.057</td>\n",
       "      <td>/oGythE98MYleE6mZlGs5oBGkux1.jpg</td>\n",
       "      <td>05-06-2024</td>\n",
       "      <td>Bad Boys: Ride or Die</td>\n",
       "      <td>FALSE</td>\n",
       "      <td>7.580</td>\n",
       "      <td>1719.0</td>\n",
       "      <td>['Will Smith', 'Martin Lawrence', 'Vanessa Hud...</td>\n",
       "      <td>Adil El Arbi</td>\n",
       "      <td>['miami, florida', 'sequel', 'on the run', 'po...</td>\n",
       "      <td>['Action', 'Crime', 'Thriller', 'Comedy']</td>\n",
       "    </tr>\n",
       "    <tr>\n",
       "      <th>4</th>\n",
       "      <td>FALSE</td>\n",
       "      <td>/lgkPzcOSnTvjeMnuFzozRO5HHw1.jpg</td>\n",
       "      <td>[16, 10751, 35, 28]</td>\n",
       "      <td>519182</td>\n",
       "      <td>en</td>\n",
       "      <td>Despicable Me 4</td>\n",
       "      <td>Gru and Lucy and their girls—Margo, Edith and ...</td>\n",
       "      <td>2051.558</td>\n",
       "      <td>/wWba3TaojhK7NdycRhoQpsG0FaH.jpg</td>\n",
       "      <td>20-06-2024</td>\n",
       "      <td>Despicable Me 4</td>\n",
       "      <td>FALSE</td>\n",
       "      <td>7.300</td>\n",
       "      <td>1257.0</td>\n",
       "      <td>['Steve Carell', 'Kristen Wiig', 'Will Ferrell']</td>\n",
       "      <td>Chris Renaud</td>\n",
       "      <td>['superhero', 'villain', 'sequel', 'super vill...</td>\n",
       "      <td>['Animation', 'Family', 'Comedy', 'Action']</td>\n",
       "    </tr>\n",
       "  </tbody>\n",
       "</table>\n",
       "</div>"
      ],
      "text/plain": [
       "   adult                     backdrop_path            genre_ids       id  \\\n",
       "0  FALSE  /yDHYTfA3R0jFYba16jBB1ef8oIt.jpg        [28, 35, 878]   533535   \n",
       "1  FALSE  /stKGOm8UyhuLPR9sZLjs5AkmncA.jpg  [16, 10751, 12, 35]  1022789   \n",
       "2  FALSE  /4ft6TR9wA6bra0RLL6G7JFDQ5t1.jpg             [28, 35]   704239   \n",
       "3  FALSE  /3q01ACG0MWm0DekhvkPFCXyPZSu.jpg     [28, 80, 53, 35]   573435   \n",
       "4  FALSE  /lgkPzcOSnTvjeMnuFzozRO5HHw1.jpg  [16, 10751, 35, 28]   519182   \n",
       "\n",
       "  original_language         original_title  \\\n",
       "0                en   Deadpool & Wolverine   \n",
       "1                en           Inside Out 2   \n",
       "2                en              The Union   \n",
       "3                en  Bad Boys: Ride or Die   \n",
       "4                en        Despicable Me 4   \n",
       "\n",
       "                                            overview  popularity  \\\n",
       "0  A listless Wade Wilson toils away in civilian ...    5464.692   \n",
       "1  Teenager Riley's mind headquarters is undergoi...    2641.200   \n",
       "2  A New Jersey construction worker goes from reg...    1686.712   \n",
       "3  After their late former Captain is framed, Low...    1751.057   \n",
       "4  Gru and Lucy and their girls—Margo, Edith and ...    2051.558   \n",
       "\n",
       "                        poster_path release_date                  title  \\\n",
       "0  /8cdWjvZQUExUUTzyp4t6EDMubfO.jpg   24-07-2024   Deadpool & Wolverine   \n",
       "1  /vpnVM9B6NMmQpWeZvzLvDESb2QY.jpg   11-06-2024           Inside Out 2   \n",
       "2  /d9CTnTHip1RbVi2OQbA2LJJQAGI.jpg   15-08-2024              The Union   \n",
       "3  /oGythE98MYleE6mZlGs5oBGkux1.jpg   05-06-2024  Bad Boys: Ride or Die   \n",
       "4  /wWba3TaojhK7NdycRhoQpsG0FaH.jpg   20-06-2024        Despicable Me 4   \n",
       "\n",
       "   video  vote_average  vote_count  \\\n",
       "0  FALSE         7.800      2414.0   \n",
       "1  FALSE         7.700      3024.0   \n",
       "2  FALSE         6.266       396.0   \n",
       "3  FALSE         7.580      1719.0   \n",
       "4  FALSE         7.300      1257.0   \n",
       "\n",
       "                                                cast       director  \\\n",
       "0   ['Ryan Reynolds', 'Hugh Jackman', 'Emma Corrin']     Shawn Levy   \n",
       "1  ['Amy Poehler', 'Maya Hawke', 'Kensington Tall...    Kelsey Mann   \n",
       "2   ['Mark Wahlberg', 'Halle Berry', 'J.K. Simmons']  Julian Farino   \n",
       "3  ['Will Smith', 'Martin Lawrence', 'Vanessa Hud...   Adil El Arbi   \n",
       "4   ['Steve Carell', 'Kristen Wiig', 'Will Ferrell']   Chris Renaud   \n",
       "\n",
       "                                            keywords  \\\n",
       "0  ['hero', 'superhero', 'anti hero', 'mutant', '...   \n",
       "1  ['sadness', 'disgust', 'sequel', 'computer ani...   \n",
       "2  ['espionage', 'spy', 'old flame', 'miscegenati...   \n",
       "3  ['miami, florida', 'sequel', 'on the run', 'po...   \n",
       "4  ['superhero', 'villain', 'sequel', 'super vill...   \n",
       "\n",
       "                                      genre_names  \n",
       "0         ['Action', 'Comedy', 'Science Fiction']  \n",
       "1  ['Animation', 'Family', 'Adventure', 'Comedy']  \n",
       "2                            ['Action', 'Comedy']  \n",
       "3       ['Action', 'Crime', 'Thriller', 'Comedy']  \n",
       "4     ['Animation', 'Family', 'Comedy', 'Action']  "
      ]
     },
     "execution_count": 191,
     "metadata": {},
     "output_type": "execute_result"
    }
   ],
   "source": [
    "df.head()"
   ]
  },
  {
   "cell_type": "code",
   "execution_count": 110,
   "metadata": {},
   "outputs": [
    {
     "data": {
      "text/html": [
       "<div>\n",
       "<style scoped>\n",
       "    .dataframe tbody tr th:only-of-type {\n",
       "        vertical-align: middle;\n",
       "    }\n",
       "\n",
       "    .dataframe tbody tr th {\n",
       "        vertical-align: top;\n",
       "    }\n",
       "\n",
       "    .dataframe thead th {\n",
       "        text-align: right;\n",
       "    }\n",
       "</style>\n",
       "<table border=\"1\" class=\"dataframe\">\n",
       "  <thead>\n",
       "    <tr style=\"text-align: right;\">\n",
       "      <th></th>\n",
       "      <th>adult</th>\n",
       "      <th>backdrop_path</th>\n",
       "      <th>genre_ids</th>\n",
       "      <th>id</th>\n",
       "      <th>original_language</th>\n",
       "      <th>original_title</th>\n",
       "      <th>overview</th>\n",
       "      <th>popularity</th>\n",
       "      <th>poster_path</th>\n",
       "      <th>release_date</th>\n",
       "      <th>title</th>\n",
       "      <th>video</th>\n",
       "      <th>vote_average</th>\n",
       "      <th>vote_count</th>\n",
       "      <th>cast</th>\n",
       "      <th>director</th>\n",
       "      <th>keywords</th>\n",
       "      <th>genre_names</th>\n",
       "    </tr>\n",
       "  </thead>\n",
       "  <tbody>\n",
       "    <tr>\n",
       "      <th>2534</th>\n",
       "      <td>FALSE</td>\n",
       "      <td>/77xFxLtD2jGpOrcjJbCez2wZWX1.jpg</td>\n",
       "      <td>[10749]</td>\n",
       "      <td>698818</td>\n",
       "      <td>ko</td>\n",
       "      <td>음란 주택: 노예가 된 아내</td>\n",
       "      <td>Hyun-jung, who moved to a local mansion, was d...</td>\n",
       "      <td>41.757</td>\n",
       "      <td>/1VfuzK2Qx1tIGE1nhn2G2ilF7RN.jpg</td>\n",
       "      <td>06-02-2020</td>\n",
       "      <td>Obscene House: Slave Wife</td>\n",
       "      <td>FALSE</td>\n",
       "      <td>5.500</td>\n",
       "      <td>2.0</td>\n",
       "      <td>['Sae Bom', 'Kim Min-jeong', 'Min Do-yoon']</td>\n",
       "      <td>Han Dong-Ho</td>\n",
       "      <td>['softcore']</td>\n",
       "      <td>['Romance']</td>\n",
       "    </tr>\n",
       "    <tr>\n",
       "      <th>1092</th>\n",
       "      <td>FALSE</td>\n",
       "      <td>/AqzL3Mj6e7qEjS3gHEcccYcQXpq.jpg</td>\n",
       "      <td>[35]</td>\n",
       "      <td>1243895</td>\n",
       "      <td>es</td>\n",
       "      <td>Canta y no llores</td>\n",
       "      <td>A matriarchal family runs a taco food truck, n...</td>\n",
       "      <td>47.276</td>\n",
       "      <td>/8WambNXFVcMyTeCWajNEYfT80Xp.jpg</td>\n",
       "      <td>21-03-2024</td>\n",
       "      <td>Sing and Don't Cry</td>\n",
       "      <td>FALSE</td>\n",
       "      <td>6.976</td>\n",
       "      <td>41.0</td>\n",
       "      <td>['Michelle Rodríguez', 'Consuelo Duval', 'Patr...</td>\n",
       "      <td>Félix Sabroso</td>\n",
       "      <td>[]</td>\n",
       "      <td>['Comedy']</td>\n",
       "    </tr>\n",
       "    <tr>\n",
       "      <th>4291</th>\n",
       "      <td>FALSE</td>\n",
       "      <td>/7PZlpdoIOyyFurOyfyBAfYelDFQ.jpg</td>\n",
       "      <td>[10751, 35]</td>\n",
       "      <td>691683</td>\n",
       "      <td>en</td>\n",
       "      <td>Cheaper by the Dozen</td>\n",
       "      <td>This remake of the beloved classic follows the...</td>\n",
       "      <td>30.686</td>\n",
       "      <td>/qNRsouZh5zmhaE3n4QpLDXzy1gQ.jpg</td>\n",
       "      <td>18-03-2022</td>\n",
       "      <td>Cheaper by the Dozen</td>\n",
       "      <td>FALSE</td>\n",
       "      <td>6.420</td>\n",
       "      <td>243.0</td>\n",
       "      <td>['Gabrielle Union', 'Zach Braff', 'Erika Chris...</td>\n",
       "      <td>Gail Lerner</td>\n",
       "      <td>['based on novel or book', 'big family', 'rema...</td>\n",
       "      <td>['Family', 'Comedy']</td>\n",
       "    </tr>\n",
       "    <tr>\n",
       "      <th>4511</th>\n",
       "      <td>FALSE</td>\n",
       "      <td>/kpuah918VrjX5VugqqgecwvbY5d.jpg</td>\n",
       "      <td>[878, 28, 12]</td>\n",
       "      <td>11867</td>\n",
       "      <td>en</td>\n",
       "      <td>Barb Wire</td>\n",
       "      <td>A sexy nightclub owner, Barb Wire moonlights a...</td>\n",
       "      <td>29.683</td>\n",
       "      <td>/jW5TLptY7PL1Mllq1g1uMjwXLXT.jpg</td>\n",
       "      <td>02-05-1996</td>\n",
       "      <td>Barb Wire</td>\n",
       "      <td>FALSE</td>\n",
       "      <td>3.955</td>\n",
       "      <td>404.0</td>\n",
       "      <td>['Pamela Anderson', 'Temuera Morrison', 'Victo...</td>\n",
       "      <td>David Hogan</td>\n",
       "      <td>['bounty hunter', 'civil war', 'dystopia', 'ba...</td>\n",
       "      <td>['Science Fiction', 'Action', 'Adventure']</td>\n",
       "    </tr>\n",
       "    <tr>\n",
       "      <th>4941</th>\n",
       "      <td>FALSE</td>\n",
       "      <td>/AqLtFRKVX2G0ghMnMnQoSGan4pY.jpg</td>\n",
       "      <td>[18, 10402]</td>\n",
       "      <td>786</td>\n",
       "      <td>en</td>\n",
       "      <td>Almost Famous</td>\n",
       "      <td>In 1973, 15-year-old William Miller's unabashe...</td>\n",
       "      <td>37.471</td>\n",
       "      <td>/3rrkyLYbgLj84AYvjhdcJot4JPx.jpg</td>\n",
       "      <td>15-09-2000</td>\n",
       "      <td>Almost Famous</td>\n",
       "      <td>FALSE</td>\n",
       "      <td>7.507</td>\n",
       "      <td>2654.0</td>\n",
       "      <td>['Billy Crudup', 'Frances McDormand', 'Kate Hu...</td>\n",
       "      <td>Cameron Crowe</td>\n",
       "      <td>['hotel room', 'concert', \"rock 'n' roll\", 'st...</td>\n",
       "      <td>['Drama', 'Music']</td>\n",
       "    </tr>\n",
       "  </tbody>\n",
       "</table>\n",
       "</div>"
      ],
      "text/plain": [
       "      adult                     backdrop_path      genre_ids       id  \\\n",
       "2534  FALSE  /77xFxLtD2jGpOrcjJbCez2wZWX1.jpg        [10749]   698818   \n",
       "1092  FALSE  /AqzL3Mj6e7qEjS3gHEcccYcQXpq.jpg           [35]  1243895   \n",
       "4291  FALSE  /7PZlpdoIOyyFurOyfyBAfYelDFQ.jpg    [10751, 35]   691683   \n",
       "4511  FALSE  /kpuah918VrjX5VugqqgecwvbY5d.jpg  [878, 28, 12]    11867   \n",
       "4941  FALSE  /AqLtFRKVX2G0ghMnMnQoSGan4pY.jpg    [18, 10402]      786   \n",
       "\n",
       "     original_language        original_title  \\\n",
       "2534                ko       음란 주택: 노예가 된 아내   \n",
       "1092                es     Canta y no llores   \n",
       "4291                en  Cheaper by the Dozen   \n",
       "4511                en             Barb Wire   \n",
       "4941                en         Almost Famous   \n",
       "\n",
       "                                               overview  popularity  \\\n",
       "2534  Hyun-jung, who moved to a local mansion, was d...      41.757   \n",
       "1092  A matriarchal family runs a taco food truck, n...      47.276   \n",
       "4291  This remake of the beloved classic follows the...      30.686   \n",
       "4511  A sexy nightclub owner, Barb Wire moonlights a...      29.683   \n",
       "4941  In 1973, 15-year-old William Miller's unabashe...      37.471   \n",
       "\n",
       "                           poster_path release_date  \\\n",
       "2534  /1VfuzK2Qx1tIGE1nhn2G2ilF7RN.jpg   06-02-2020   \n",
       "1092  /8WambNXFVcMyTeCWajNEYfT80Xp.jpg   21-03-2024   \n",
       "4291  /qNRsouZh5zmhaE3n4QpLDXzy1gQ.jpg   18-03-2022   \n",
       "4511  /jW5TLptY7PL1Mllq1g1uMjwXLXT.jpg   02-05-1996   \n",
       "4941  /3rrkyLYbgLj84AYvjhdcJot4JPx.jpg   15-09-2000   \n",
       "\n",
       "                          title  video  vote_average  vote_count  \\\n",
       "2534  Obscene House: Slave Wife  FALSE         5.500         2.0   \n",
       "1092         Sing and Don't Cry  FALSE         6.976        41.0   \n",
       "4291       Cheaper by the Dozen  FALSE         6.420       243.0   \n",
       "4511                  Barb Wire  FALSE         3.955       404.0   \n",
       "4941              Almost Famous  FALSE         7.507      2654.0   \n",
       "\n",
       "                                                   cast       director  \\\n",
       "2534        ['Sae Bom', 'Kim Min-jeong', 'Min Do-yoon']    Han Dong-Ho   \n",
       "1092  ['Michelle Rodríguez', 'Consuelo Duval', 'Patr...  Félix Sabroso   \n",
       "4291  ['Gabrielle Union', 'Zach Braff', 'Erika Chris...    Gail Lerner   \n",
       "4511  ['Pamela Anderson', 'Temuera Morrison', 'Victo...    David Hogan   \n",
       "4941  ['Billy Crudup', 'Frances McDormand', 'Kate Hu...  Cameron Crowe   \n",
       "\n",
       "                                               keywords  \\\n",
       "2534                                       ['softcore']   \n",
       "1092                                                 []   \n",
       "4291  ['based on novel or book', 'big family', 'rema...   \n",
       "4511  ['bounty hunter', 'civil war', 'dystopia', 'ba...   \n",
       "4941  ['hotel room', 'concert', \"rock 'n' roll\", 'st...   \n",
       "\n",
       "                                     genre_names  \n",
       "2534                                 ['Romance']  \n",
       "1092                                  ['Comedy']  \n",
       "4291                        ['Family', 'Comedy']  \n",
       "4511  ['Science Fiction', 'Action', 'Adventure']  \n",
       "4941                          ['Drama', 'Music']  "
      ]
     },
     "execution_count": 110,
     "metadata": {},
     "output_type": "execute_result"
    }
   ],
   "source": [
    "df.sample(5)"
   ]
  },
  {
   "cell_type": "code",
   "execution_count": 111,
   "metadata": {},
   "outputs": [
    {
     "data": {
      "text/plain": [
       "(5002, 18)"
      ]
     },
     "execution_count": 111,
     "metadata": {},
     "output_type": "execute_result"
    }
   ],
   "source": [
    "df.shape"
   ]
  },
  {
   "cell_type": "code",
   "execution_count": 112,
   "metadata": {},
   "outputs": [
    {
     "data": {
      "text/plain": [
       "Index(['adult', 'backdrop_path', 'genre_ids', 'id', 'original_language',\n",
       "       'original_title', 'overview', 'popularity', 'poster_path',\n",
       "       'release_date', 'title', 'video', 'vote_average', 'vote_count', 'cast',\n",
       "       'director', 'keywords', 'genre_names'],\n",
       "      dtype='object')"
      ]
     },
     "execution_count": 112,
     "metadata": {},
     "output_type": "execute_result"
    }
   ],
   "source": [
    "df.columns"
   ]
  },
  {
   "cell_type": "markdown",
   "metadata": {},
   "source": [
    "## Extracting id and respective poster_path"
   ]
  },
  {
   "cell_type": "code",
   "execution_count": 193,
   "metadata": {},
   "outputs": [],
   "source": [
    "poster_paths = df[['id', 'poster_path']]"
   ]
  },
  {
   "cell_type": "code",
   "execution_count": 195,
   "metadata": {},
   "outputs": [],
   "source": [
    "pickle.dump(poster_paths, open('poster_paths.pkl', 'wb'))"
   ]
  },
  {
   "cell_type": "markdown",
   "metadata": {},
   "source": [
    "## Filtering columns \n",
    "Only keep those columns which will help in building recommender system."
   ]
  },
  {
   "cell_type": "code",
   "execution_count": 113,
   "metadata": {},
   "outputs": [
    {
     "data": {
      "text/plain": [
       "original_language\n",
       "en         3798\n",
       "ja          314\n",
       "ko          153\n",
       "es          134\n",
       "fr          121\n",
       "zh           81\n",
       "it           68\n",
       "cn           56\n",
       "tl           32\n",
       "ru           29\n",
       "hi           28\n",
       "de           25\n",
       "th           19\n",
       "sv           17\n",
       "pt           15\n",
       "id           14\n",
       "no           14\n",
       "pl           12\n",
       "tr            9\n",
       "te            7\n",
       "da            7\n",
       "ta            6\n",
       "nl            6\n",
       "ar            4\n",
       "kn            3\n",
       "ca            3\n",
       "el            3\n",
       "mn            2\n",
       "vi            2\n",
       "sr            2\n",
       "is            2\n",
       "fi            2\n",
       "uk            2\n",
       "ml            2\n",
       "bn            2\n",
       "XXXXXXX       2\n",
       "cs            1\n",
       "lt            1\n",
       "hr            1\n",
       "ms            1\n",
       "mk            1\n",
       "yo            1\n",
       "Name: count, dtype: int64"
      ]
     },
     "execution_count": 113,
     "metadata": {},
     "output_type": "execute_result"
    }
   ],
   "source": [
    "df['original_language'].value_counts()"
   ]
  },
  {
   "cell_type": "code",
   "execution_count": 114,
   "metadata": {},
   "outputs": [
    {
     "data": {
      "text/plain": [
       "adult\n",
       "FALSE                                                 5000\n",
       " Of the domestic exploration for finding my voice.       2\n",
       "Name: count, dtype: int64"
      ]
     },
     "execution_count": 114,
     "metadata": {},
     "output_type": "execute_result"
    }
   ],
   "source": [
    "df['adult'].value_counts()"
   ]
  },
  {
   "cell_type": "markdown",
   "metadata": {},
   "source": [
    "### columns to include\n",
    "- id\n",
    "- title\n",
    "- overview\n",
    "- genre_names \n",
    "- keywords\n",
    "- cast \n",
    "- director"
   ]
  },
  {
   "cell_type": "code",
   "execution_count": 115,
   "metadata": {},
   "outputs": [],
   "source": [
    "df = df[['id', 'title', 'overview', 'genre_names', 'keywords', 'cast', 'director']]"
   ]
  },
  {
   "cell_type": "markdown",
   "metadata": {},
   "source": [
    "## Handling duplicate values"
   ]
  },
  {
   "cell_type": "code",
   "execution_count": 116,
   "metadata": {},
   "outputs": [
    {
     "data": {
      "text/plain": [
       "113"
      ]
     },
     "execution_count": 116,
     "metadata": {},
     "output_type": "execute_result"
    }
   ],
   "source": [
    "df.duplicated().sum()"
   ]
  },
  {
   "cell_type": "code",
   "execution_count": 117,
   "metadata": {},
   "outputs": [
    {
     "data": {
      "text/html": [
       "<div>\n",
       "<style scoped>\n",
       "    .dataframe tbody tr th:only-of-type {\n",
       "        vertical-align: middle;\n",
       "    }\n",
       "\n",
       "    .dataframe tbody tr th {\n",
       "        vertical-align: top;\n",
       "    }\n",
       "\n",
       "    .dataframe thead th {\n",
       "        text-align: right;\n",
       "    }\n",
       "</style>\n",
       "<table border=\"1\" class=\"dataframe\">\n",
       "  <thead>\n",
       "    <tr style=\"text-align: right;\">\n",
       "      <th></th>\n",
       "      <th>id</th>\n",
       "      <th>title</th>\n",
       "      <th>overview</th>\n",
       "      <th>genre_names</th>\n",
       "      <th>keywords</th>\n",
       "      <th>cast</th>\n",
       "      <th>director</th>\n",
       "    </tr>\n",
       "  </thead>\n",
       "  <tbody>\n",
       "    <tr>\n",
       "      <th>60</th>\n",
       "      <td>299536</td>\n",
       "      <td>Avengers: Infinity War</td>\n",
       "      <td>As the Avengers and their allies have continue...</td>\n",
       "      <td>['Adventure', 'Action', 'Science Fiction']</td>\n",
       "      <td>['sacrifice', 'magic', 'superhero', 'based on ...</td>\n",
       "      <td>['Robert Downey Jr.', 'Chris Evans', 'Chris He...</td>\n",
       "      <td>Anthony Russo</td>\n",
       "    </tr>\n",
       "    <tr>\n",
       "      <th>61</th>\n",
       "      <td>943344</td>\n",
       "      <td>Underground Monster</td>\n",
       "      <td>Near a remote town, the repeated dumping of to...</td>\n",
       "      <td>['Fantasy', 'Adventure']</td>\n",
       "      <td>[]</td>\n",
       "      <td>['Wei Wei', 'Wei Lu', 'Zhang Chunzhong']</td>\n",
       "      <td>Huang He</td>\n",
       "    </tr>\n",
       "    <tr>\n",
       "      <th>62</th>\n",
       "      <td>7451</td>\n",
       "      <td>xXx</td>\n",
       "      <td>Xander Cage is your standard adrenaline junkie...</td>\n",
       "      <td>['Action', 'Adventure', 'Thriller', 'Crime']</td>\n",
       "      <td>['mission', 'biological weapon', 'sports car',...</td>\n",
       "      <td>['Vin Diesel', 'Asia Argento', 'Marton Csokas']</td>\n",
       "      <td>Rob Cohen</td>\n",
       "    </tr>\n",
       "    <tr>\n",
       "      <th>98</th>\n",
       "      <td>1032823</td>\n",
       "      <td>Trap</td>\n",
       "      <td>A father and teen daughter attend a pop concer...</td>\n",
       "      <td>['Crime', 'Thriller', 'Horror', 'Mystery']</td>\n",
       "      <td>['concert', 'philadelphia, pennsylvania', 'dou...</td>\n",
       "      <td>['Josh Hartnett', 'Ariel Donoghue', 'Saleka']</td>\n",
       "      <td>M. Night Shyamalan</td>\n",
       "    </tr>\n",
       "    <tr>\n",
       "      <th>200</th>\n",
       "      <td>866398</td>\n",
       "      <td>The Beekeeper</td>\n",
       "      <td>One man's campaign for vengeance takes on nati...</td>\n",
       "      <td>['Crime', 'Action', 'Adventure', 'Thriller']</td>\n",
       "      <td>['potus', 'secret government agency', 'fbi age...</td>\n",
       "      <td>['Jason Statham', 'Emmy Raver-Lampman', 'Bobby...</td>\n",
       "      <td>David Ayer</td>\n",
       "    </tr>\n",
       "    <tr>\n",
       "      <th>...</th>\n",
       "      <td>...</td>\n",
       "      <td>...</td>\n",
       "      <td>...</td>\n",
       "      <td>...</td>\n",
       "      <td>...</td>\n",
       "      <td>...</td>\n",
       "      <td>...</td>\n",
       "    </tr>\n",
       "    <tr>\n",
       "      <th>4824</th>\n",
       "      <td>11284</td>\n",
       "      <td>Freddy's Dead: The Final Nightmare</td>\n",
       "      <td>Just when you thought it was safe to sleep, Fr...</td>\n",
       "      <td>['Horror', 'Thriller']</td>\n",
       "      <td>['amnesia', 'dream', 'nightmare', 'sadism', 'p...</td>\n",
       "      <td>['Robert Englund', 'Lisa Zane', 'Shon Greenbla...</td>\n",
       "      <td>Rachel Talalay</td>\n",
       "    </tr>\n",
       "    <tr>\n",
       "      <th>4862</th>\n",
       "      <td>1072876</td>\n",
       "      <td>Self Reliance</td>\n",
       "      <td>When a man is offered a million dollars to pla...</td>\n",
       "      <td>['Comedy', 'Thriller']</td>\n",
       "      <td>['boredom', 'homeless', 'dark web', 'reality s...</td>\n",
       "      <td>['Jake Johnson', 'Anna Kendrick', 'Natalie Mor...</td>\n",
       "      <td>Jake Johnson</td>\n",
       "    </tr>\n",
       "    <tr>\n",
       "      <th>4922</th>\n",
       "      <td>527776</td>\n",
       "      <td>Overcomer</td>\n",
       "      <td>After reluctantly agreeing to coach cross-coun...</td>\n",
       "      <td>['Drama']</td>\n",
       "      <td>['sports', 'christianity', 'cross country']</td>\n",
       "      <td>['Alex Kendrick', 'Priscilla C. Shirer', 'Came...</td>\n",
       "      <td>Alex Kendrick</td>\n",
       "    </tr>\n",
       "    <tr>\n",
       "      <th>4923</th>\n",
       "      <td>109443</td>\n",
       "      <td>Anchorman 2: The Legend Continues</td>\n",
       "      <td>With the 70s behind him, San Diego's top rated...</td>\n",
       "      <td>['Comedy']</td>\n",
       "      <td>['journalism', 'language', 'mustache', 'gang w...</td>\n",
       "      <td>['Will Ferrell', 'Steve Carell', 'Paul Rudd']</td>\n",
       "      <td>Adam McKay</td>\n",
       "    </tr>\n",
       "    <tr>\n",
       "      <th>4924</th>\n",
       "      <td>242643</td>\n",
       "      <td>Batman: Assault on Arkham</td>\n",
       "      <td>Batman works desperately to find a bomb plante...</td>\n",
       "      <td>['Thriller', 'Animation', 'Action', 'Crime']</td>\n",
       "      <td>['superhero', 'based on comic', 'spin off']</td>\n",
       "      <td>['Kevin Conroy', 'Neal McDonough', 'Hynden Wal...</td>\n",
       "      <td>Ethan Spaulding</td>\n",
       "    </tr>\n",
       "  </tbody>\n",
       "</table>\n",
       "<p>113 rows × 7 columns</p>\n",
       "</div>"
      ],
      "text/plain": [
       "           id                               title  \\\n",
       "60     299536              Avengers: Infinity War   \n",
       "61     943344                 Underground Monster   \n",
       "62       7451                                 xXx   \n",
       "98    1032823                                Trap   \n",
       "200    866398                       The Beekeeper   \n",
       "...       ...                                 ...   \n",
       "4824    11284  Freddy's Dead: The Final Nightmare   \n",
       "4862  1072876                       Self Reliance   \n",
       "4922   527776                           Overcomer   \n",
       "4923   109443   Anchorman 2: The Legend Continues   \n",
       "4924   242643           Batman: Assault on Arkham   \n",
       "\n",
       "                                               overview  \\\n",
       "60    As the Avengers and their allies have continue...   \n",
       "61    Near a remote town, the repeated dumping of to...   \n",
       "62    Xander Cage is your standard adrenaline junkie...   \n",
       "98    A father and teen daughter attend a pop concer...   \n",
       "200   One man's campaign for vengeance takes on nati...   \n",
       "...                                                 ...   \n",
       "4824  Just when you thought it was safe to sleep, Fr...   \n",
       "4862  When a man is offered a million dollars to pla...   \n",
       "4922  After reluctantly agreeing to coach cross-coun...   \n",
       "4923  With the 70s behind him, San Diego's top rated...   \n",
       "4924  Batman works desperately to find a bomb plante...   \n",
       "\n",
       "                                       genre_names  \\\n",
       "60      ['Adventure', 'Action', 'Science Fiction']   \n",
       "61                        ['Fantasy', 'Adventure']   \n",
       "62    ['Action', 'Adventure', 'Thriller', 'Crime']   \n",
       "98      ['Crime', 'Thriller', 'Horror', 'Mystery']   \n",
       "200   ['Crime', 'Action', 'Adventure', 'Thriller']   \n",
       "...                                            ...   \n",
       "4824                        ['Horror', 'Thriller']   \n",
       "4862                        ['Comedy', 'Thriller']   \n",
       "4922                                     ['Drama']   \n",
       "4923                                    ['Comedy']   \n",
       "4924  ['Thriller', 'Animation', 'Action', 'Crime']   \n",
       "\n",
       "                                               keywords  \\\n",
       "60    ['sacrifice', 'magic', 'superhero', 'based on ...   \n",
       "61                                                   []   \n",
       "62    ['mission', 'biological weapon', 'sports car',...   \n",
       "98    ['concert', 'philadelphia, pennsylvania', 'dou...   \n",
       "200   ['potus', 'secret government agency', 'fbi age...   \n",
       "...                                                 ...   \n",
       "4824  ['amnesia', 'dream', 'nightmare', 'sadism', 'p...   \n",
       "4862  ['boredom', 'homeless', 'dark web', 'reality s...   \n",
       "4922        ['sports', 'christianity', 'cross country']   \n",
       "4923  ['journalism', 'language', 'mustache', 'gang w...   \n",
       "4924        ['superhero', 'based on comic', 'spin off']   \n",
       "\n",
       "                                                   cast            director  \n",
       "60    ['Robert Downey Jr.', 'Chris Evans', 'Chris He...       Anthony Russo  \n",
       "61             ['Wei Wei', 'Wei Lu', 'Zhang Chunzhong']            Huang He  \n",
       "62      ['Vin Diesel', 'Asia Argento', 'Marton Csokas']           Rob Cohen  \n",
       "98        ['Josh Hartnett', 'Ariel Donoghue', 'Saleka']  M. Night Shyamalan  \n",
       "200   ['Jason Statham', 'Emmy Raver-Lampman', 'Bobby...          David Ayer  \n",
       "...                                                 ...                 ...  \n",
       "4824  ['Robert Englund', 'Lisa Zane', 'Shon Greenbla...      Rachel Talalay  \n",
       "4862  ['Jake Johnson', 'Anna Kendrick', 'Natalie Mor...        Jake Johnson  \n",
       "4922  ['Alex Kendrick', 'Priscilla C. Shirer', 'Came...       Alex Kendrick  \n",
       "4923      ['Will Ferrell', 'Steve Carell', 'Paul Rudd']          Adam McKay  \n",
       "4924  ['Kevin Conroy', 'Neal McDonough', 'Hynden Wal...     Ethan Spaulding  \n",
       "\n",
       "[113 rows x 7 columns]"
      ]
     },
     "execution_count": 117,
     "metadata": {},
     "output_type": "execute_result"
    }
   ],
   "source": [
    "df[df.duplicated()]"
   ]
  },
  {
   "cell_type": "code",
   "execution_count": 118,
   "metadata": {},
   "outputs": [],
   "source": [
    "df.drop_duplicates(inplace=True)"
   ]
  },
  {
   "cell_type": "markdown",
   "metadata": {},
   "source": [
    "## Handling missing values"
   ]
  },
  {
   "cell_type": "code",
   "execution_count": 119,
   "metadata": {},
   "outputs": [
    {
     "data": {
      "text/plain": [
       "id              0\n",
       "title           1\n",
       "overview       34\n",
       "genre_names     2\n",
       "keywords        2\n",
       "cast            2\n",
       "director       25\n",
       "dtype: int64"
      ]
     },
     "execution_count": 119,
     "metadata": {},
     "output_type": "execute_result"
    }
   ],
   "source": [
    "df.isna().sum()"
   ]
  },
  {
   "cell_type": "code",
   "execution_count": 120,
   "metadata": {},
   "outputs": [
    {
     "data": {
      "text/html": [
       "<div>\n",
       "<style scoped>\n",
       "    .dataframe tbody tr th:only-of-type {\n",
       "        vertical-align: middle;\n",
       "    }\n",
       "\n",
       "    .dataframe tbody tr th {\n",
       "        vertical-align: top;\n",
       "    }\n",
       "\n",
       "    .dataframe thead th {\n",
       "        text-align: right;\n",
       "    }\n",
       "</style>\n",
       "<table border=\"1\" class=\"dataframe\">\n",
       "  <thead>\n",
       "    <tr style=\"text-align: right;\">\n",
       "      <th></th>\n",
       "      <th>id</th>\n",
       "      <th>title</th>\n",
       "      <th>overview</th>\n",
       "      <th>genre_names</th>\n",
       "      <th>keywords</th>\n",
       "      <th>cast</th>\n",
       "      <th>director</th>\n",
       "    </tr>\n",
       "  </thead>\n",
       "  <tbody>\n",
       "    <tr>\n",
       "      <th>4179</th>\n",
       "      <td>457697</td>\n",
       "      <td>NaN</td>\n",
       "      <td>A tarot card reading as a starting point.  A d...</td>\n",
       "      <td>NaN</td>\n",
       "      <td>NaN</td>\n",
       "      <td>NaN</td>\n",
       "      <td>NaN</td>\n",
       "    </tr>\n",
       "  </tbody>\n",
       "</table>\n",
       "</div>"
      ],
      "text/plain": [
       "          id title                                           overview  \\\n",
       "4179  457697   NaN  A tarot card reading as a starting point.  A d...   \n",
       "\n",
       "     genre_names keywords cast director  \n",
       "4179         NaN      NaN  NaN      NaN  "
      ]
     },
     "execution_count": 120,
     "metadata": {},
     "output_type": "execute_result"
    }
   ],
   "source": [
    "df[df['title'].isna()]"
   ]
  },
  {
   "cell_type": "code",
   "execution_count": 121,
   "metadata": {},
   "outputs": [
    {
     "data": {
      "text/html": [
       "<div>\n",
       "<style scoped>\n",
       "    .dataframe tbody tr th:only-of-type {\n",
       "        vertical-align: middle;\n",
       "    }\n",
       "\n",
       "    .dataframe tbody tr th {\n",
       "        vertical-align: top;\n",
       "    }\n",
       "\n",
       "    .dataframe thead th {\n",
       "        text-align: right;\n",
       "    }\n",
       "</style>\n",
       "<table border=\"1\" class=\"dataframe\">\n",
       "  <thead>\n",
       "    <tr style=\"text-align: right;\">\n",
       "      <th></th>\n",
       "      <th>id</th>\n",
       "      <th>title</th>\n",
       "      <th>overview</th>\n",
       "      <th>genre_names</th>\n",
       "      <th>keywords</th>\n",
       "      <th>cast</th>\n",
       "      <th>director</th>\n",
       "    </tr>\n",
       "  </thead>\n",
       "  <tbody>\n",
       "    <tr>\n",
       "      <th>4179</th>\n",
       "      <td>457697</td>\n",
       "      <td>NaN</td>\n",
       "      <td>A tarot card reading as a starting point.  A d...</td>\n",
       "      <td>NaN</td>\n",
       "      <td>NaN</td>\n",
       "      <td>NaN</td>\n",
       "      <td>NaN</td>\n",
       "    </tr>\n",
       "    <tr>\n",
       "      <th>4180</th>\n",
       "      <td>01-09-2016</td>\n",
       "      <td>[]</td>\n",
       "      <td>6.9</td>\n",
       "      <td>NaN</td>\n",
       "      <td>NaN</td>\n",
       "      <td>NaN</td>\n",
       "      <td>NaN</td>\n",
       "    </tr>\n",
       "  </tbody>\n",
       "</table>\n",
       "</div>"
      ],
      "text/plain": [
       "              id title                                           overview  \\\n",
       "4179      457697   NaN  A tarot card reading as a starting point.  A d...   \n",
       "4180  01-09-2016    []                                                6.9   \n",
       "\n",
       "     genre_names keywords cast director  \n",
       "4179         NaN      NaN  NaN      NaN  \n",
       "4180         NaN      NaN  NaN      NaN  "
      ]
     },
     "execution_count": 121,
     "metadata": {},
     "output_type": "execute_result"
    }
   ],
   "source": [
    "df[df['genre_names'].isna()]"
   ]
  },
  {
   "cell_type": "code",
   "execution_count": 122,
   "metadata": {},
   "outputs": [
    {
     "data": {
      "text/html": [
       "<div>\n",
       "<style scoped>\n",
       "    .dataframe tbody tr th:only-of-type {\n",
       "        vertical-align: middle;\n",
       "    }\n",
       "\n",
       "    .dataframe tbody tr th {\n",
       "        vertical-align: top;\n",
       "    }\n",
       "\n",
       "    .dataframe thead th {\n",
       "        text-align: right;\n",
       "    }\n",
       "</style>\n",
       "<table border=\"1\" class=\"dataframe\">\n",
       "  <thead>\n",
       "    <tr style=\"text-align: right;\">\n",
       "      <th></th>\n",
       "      <th>id</th>\n",
       "      <th>title</th>\n",
       "      <th>overview</th>\n",
       "      <th>genre_names</th>\n",
       "      <th>keywords</th>\n",
       "      <th>cast</th>\n",
       "      <th>director</th>\n",
       "    </tr>\n",
       "  </thead>\n",
       "  <tbody>\n",
       "    <tr>\n",
       "      <th>4179</th>\n",
       "      <td>457697</td>\n",
       "      <td>NaN</td>\n",
       "      <td>A tarot card reading as a starting point.  A d...</td>\n",
       "      <td>NaN</td>\n",
       "      <td>NaN</td>\n",
       "      <td>NaN</td>\n",
       "      <td>NaN</td>\n",
       "    </tr>\n",
       "    <tr>\n",
       "      <th>4180</th>\n",
       "      <td>01-09-2016</td>\n",
       "      <td>[]</td>\n",
       "      <td>6.9</td>\n",
       "      <td>NaN</td>\n",
       "      <td>NaN</td>\n",
       "      <td>NaN</td>\n",
       "      <td>NaN</td>\n",
       "    </tr>\n",
       "  </tbody>\n",
       "</table>\n",
       "</div>"
      ],
      "text/plain": [
       "              id title                                           overview  \\\n",
       "4179      457697   NaN  A tarot card reading as a starting point.  A d...   \n",
       "4180  01-09-2016    []                                                6.9   \n",
       "\n",
       "     genre_names keywords cast director  \n",
       "4179         NaN      NaN  NaN      NaN  \n",
       "4180         NaN      NaN  NaN      NaN  "
      ]
     },
     "execution_count": 122,
     "metadata": {},
     "output_type": "execute_result"
    }
   ],
   "source": [
    "df[df['keywords'].isna()]"
   ]
  },
  {
   "cell_type": "code",
   "execution_count": 123,
   "metadata": {},
   "outputs": [],
   "source": [
    "df.dropna(subset=['title', 'keywords'], inplace=True)"
   ]
  },
  {
   "cell_type": "code",
   "execution_count": 124,
   "metadata": {},
   "outputs": [
    {
     "data": {
      "text/plain": [
       "id              0\n",
       "title           0\n",
       "overview       34\n",
       "genre_names     0\n",
       "keywords        0\n",
       "cast            0\n",
       "director       23\n",
       "dtype: int64"
      ]
     },
     "execution_count": 124,
     "metadata": {},
     "output_type": "execute_result"
    }
   ],
   "source": [
    "df.isna().sum()"
   ]
  },
  {
   "cell_type": "code",
   "execution_count": 125,
   "metadata": {},
   "outputs": [],
   "source": [
    "df = df.dropna()"
   ]
  },
  {
   "cell_type": "code",
   "execution_count": 126,
   "metadata": {},
   "outputs": [
    {
     "data": {
      "text/html": [
       "<div>\n",
       "<style scoped>\n",
       "    .dataframe tbody tr th:only-of-type {\n",
       "        vertical-align: middle;\n",
       "    }\n",
       "\n",
       "    .dataframe tbody tr th {\n",
       "        vertical-align: top;\n",
       "    }\n",
       "\n",
       "    .dataframe thead th {\n",
       "        text-align: right;\n",
       "    }\n",
       "</style>\n",
       "<table border=\"1\" class=\"dataframe\">\n",
       "  <thead>\n",
       "    <tr style=\"text-align: right;\">\n",
       "      <th></th>\n",
       "      <th>id</th>\n",
       "      <th>title</th>\n",
       "      <th>overview</th>\n",
       "      <th>genre_names</th>\n",
       "      <th>keywords</th>\n",
       "      <th>cast</th>\n",
       "      <th>director</th>\n",
       "    </tr>\n",
       "  </thead>\n",
       "  <tbody>\n",
       "  </tbody>\n",
       "</table>\n",
       "</div>"
      ],
      "text/plain": [
       "Empty DataFrame\n",
       "Columns: [id, title, overview, genre_names, keywords, cast, director]\n",
       "Index: []"
      ]
     },
     "execution_count": 126,
     "metadata": {},
     "output_type": "execute_result"
    }
   ],
   "source": [
    "df[df['overview'].isna()]"
   ]
  },
  {
   "cell_type": "markdown",
   "metadata": {},
   "source": [
    "## Formatting textual columns into list"
   ]
  },
  {
   "cell_type": "code",
   "execution_count": 127,
   "metadata": {},
   "outputs": [
    {
     "data": {
      "text/plain": [
       "\"['Action', 'Comedy', 'Science Fiction']\""
      ]
     },
     "execution_count": 127,
     "metadata": {},
     "output_type": "execute_result"
    }
   ],
   "source": [
    "df['genre_names'][0]"
   ]
  },
  {
   "cell_type": "code",
   "execution_count": 128,
   "metadata": {},
   "outputs": [
    {
     "data": {
      "text/plain": [
       "['Action', 'Comedy', 'Science Fiction']"
      ]
     },
     "execution_count": 128,
     "metadata": {},
     "output_type": "execute_result"
    }
   ],
   "source": [
    "ast.literal_eval(\"['Action', 'Comedy', 'Science Fiction']\")"
   ]
  },
  {
   "cell_type": "code",
   "execution_count": 129,
   "metadata": {},
   "outputs": [
    {
     "data": {
      "text/plain": [
       "\"['hero', 'superhero', 'anti hero', 'mutant', 'breaking the fourth wall', 'marvel cinematic universe (mcu)', 'mutants', 'superhero teamup']\""
      ]
     },
     "execution_count": 129,
     "metadata": {},
     "output_type": "execute_result"
    }
   ],
   "source": [
    "df['keywords'][0]"
   ]
  },
  {
   "cell_type": "code",
   "execution_count": 130,
   "metadata": {},
   "outputs": [
    {
     "data": {
      "text/plain": [
       "\"['Ryan Reynolds', 'Hugh Jackman', 'Emma Corrin']\""
      ]
     },
     "execution_count": 130,
     "metadata": {},
     "output_type": "execute_result"
    }
   ],
   "source": [
    "df['cast'][0]"
   ]
  },
  {
   "cell_type": "code",
   "execution_count": 131,
   "metadata": {},
   "outputs": [
    {
     "data": {
      "text/plain": [
       "'Shawn Levy'"
      ]
     },
     "execution_count": 131,
     "metadata": {},
     "output_type": "execute_result"
    }
   ],
   "source": [
    "df['director'][0]"
   ]
  },
  {
   "cell_type": "code",
   "execution_count": 153,
   "metadata": {},
   "outputs": [],
   "source": [
    "def create_list(name):\n",
    "    return [name]"
   ]
  },
  {
   "cell_type": "markdown",
   "metadata": {},
   "source": [
    "### Creating lists from all the textual columns"
   ]
  },
  {
   "cell_type": "code",
   "execution_count": 133,
   "metadata": {},
   "outputs": [],
   "source": [
    "df['genre_names'] = df['genre_names'].apply(ast.literal_eval)\n",
    "df['keywords'] = df['keywords'].apply(ast.literal_eval)\n",
    "df['cast'] = df['cast'].apply(ast.literal_eval)\n",
    "df['director'] = df['director'].apply(create_list)\n",
    "df['overview'] = df['overview'].apply(lambda x:x.split())"
   ]
  },
  {
   "cell_type": "markdown",
   "metadata": {},
   "source": [
    "### Removing spaces between words so that meaning remains"
   ]
  },
  {
   "cell_type": "code",
   "execution_count": 137,
   "metadata": {},
   "outputs": [],
   "source": [
    "def collapse(L):\n",
    "    l = []\n",
    "    for i in L:\n",
    "        l.append(i.replace(' ', ''))\n",
    "    return l"
   ]
  },
  {
   "cell_type": "code",
   "execution_count": 140,
   "metadata": {},
   "outputs": [
    {
     "data": {
      "text/plain": [
       "0             [Action, Comedy, ScienceFiction]\n",
       "1       [Animation, Family, Adventure, Comedy]\n",
       "2                             [Action, Comedy]\n",
       "3            [Action, Crime, Thriller, Comedy]\n",
       "4          [Animation, Family, Comedy, Action]\n",
       "                         ...                  \n",
       "4997                           [Drama, Comedy]\n",
       "4998                                [Thriller]\n",
       "4999             [Action, Drama, History, War]\n",
       "5000                [Mystery, Thriller, Crime]\n",
       "5001                                  [Comedy]\n",
       "Name: genre_names, Length: 4840, dtype: object"
      ]
     },
     "execution_count": 140,
     "metadata": {},
     "output_type": "execute_result"
    }
   ],
   "source": [
    "df['genre_names'].apply(collapse)"
   ]
  },
  {
   "cell_type": "code",
   "execution_count": 141,
   "metadata": {},
   "outputs": [
    {
     "data": {
      "text/plain": [
       "0       [hero, superhero, antihero, mutant, breakingth...\n",
       "1       [sadness, disgust, sequel, computeranimation, ...\n",
       "2       [espionage, spy, oldflame, miscegenation, cons...\n",
       "3       [miami,florida, sequel, ontherun, policedetect...\n",
       "4       [superhero, villain, sequel, supervillain, ill...\n",
       "                              ...                        \n",
       "4997    [bondage, lesbianrelationship, torture, basedo...\n",
       "4998                                     [schoolshooting]\n",
       "4999    [siblingrelationship, fight, brother, worldwar...\n",
       "5000    [island, fbi, simulation, training, serialkill...\n",
       "5001    [mutiny, submarine, u.s.navy, misfit, maverick...\n",
       "Name: keywords, Length: 4840, dtype: object"
      ]
     },
     "execution_count": 141,
     "metadata": {},
     "output_type": "execute_result"
    }
   ],
   "source": [
    "df['keywords'].apply(collapse)"
   ]
  },
  {
   "cell_type": "code",
   "execution_count": 143,
   "metadata": {},
   "outputs": [
    {
     "data": {
      "text/plain": [
       "0           [RyanReynolds, HughJackman, EmmaCorrin]\n",
       "1        [AmyPoehler, MayaHawke, KensingtonTallman]\n",
       "2           [MarkWahlberg, HalleBerry, J.K.Simmons]\n",
       "3       [WillSmith, MartinLawrence, VanessaHudgens]\n",
       "4           [SteveCarell, KristenWiig, WillFerrell]\n",
       "                           ...                     \n",
       "4997    [NorikoKijima, HarunaYoshizumi, YukiMamiya]\n",
       "4998        [NaomiWatts, ColtonGobbo, SierraMaltby]\n",
       "4999        [DanielCraig, LievSchreiber, JamieBell]\n",
       "5000       [KathrynMorris, JonnyLeeMiller, LLCoolJ]\n",
       "5001     [KelseyGrammer, LaurenHolly, RobSchneider]\n",
       "Name: cast, Length: 4840, dtype: object"
      ]
     },
     "execution_count": 143,
     "metadata": {},
     "output_type": "execute_result"
    }
   ],
   "source": [
    "df['cast'].apply(collapse)"
   ]
  },
  {
   "cell_type": "code",
   "execution_count": 150,
   "metadata": {},
   "outputs": [],
   "source": [
    "df['overview'] = df['overview'].apply(collapse)\n",
    "df['genre_names'] = df['genre_names'].apply(collapse)\n",
    "df['keywords'] = df['keywords'].apply(collapse)\n",
    "df['cast'] = df['cast'].apply(collapse)\n",
    "df['director'] = df['director'].apply(collapse)"
   ]
  },
  {
   "cell_type": "code",
   "execution_count": 159,
   "metadata": {},
   "outputs": [],
   "source": [
    "df['tags'] = df['overview'] + df['genre_names'] + df['keywords'] + df['cast'] + df['director']"
   ]
  },
  {
   "cell_type": "markdown",
   "metadata": {},
   "source": [
    "### Creating new dataframe by dropping columns which are already included into tags"
   ]
  },
  {
   "cell_type": "code",
   "execution_count": 162,
   "metadata": {},
   "outputs": [],
   "source": [
    "new_df = df.drop(columns=['overview', 'genre_names', 'keywords', 'cast', 'director'])"
   ]
  },
  {
   "cell_type": "code",
   "execution_count": 163,
   "metadata": {},
   "outputs": [
    {
     "data": {
      "text/html": [
       "<div>\n",
       "<style scoped>\n",
       "    .dataframe tbody tr th:only-of-type {\n",
       "        vertical-align: middle;\n",
       "    }\n",
       "\n",
       "    .dataframe tbody tr th {\n",
       "        vertical-align: top;\n",
       "    }\n",
       "\n",
       "    .dataframe thead th {\n",
       "        text-align: right;\n",
       "    }\n",
       "</style>\n",
       "<table border=\"1\" class=\"dataframe\">\n",
       "  <thead>\n",
       "    <tr style=\"text-align: right;\">\n",
       "      <th></th>\n",
       "      <th>id</th>\n",
       "      <th>title</th>\n",
       "      <th>tags</th>\n",
       "    </tr>\n",
       "  </thead>\n",
       "  <tbody>\n",
       "    <tr>\n",
       "      <th>0</th>\n",
       "      <td>533535</td>\n",
       "      <td>Deadpool &amp; Wolverine</td>\n",
       "      <td>[A, listless, Wade, Wilson, toils, away, in, c...</td>\n",
       "    </tr>\n",
       "    <tr>\n",
       "      <th>1</th>\n",
       "      <td>1022789</td>\n",
       "      <td>Inside Out 2</td>\n",
       "      <td>[Teenager, Riley's, mind, headquarters, is, un...</td>\n",
       "    </tr>\n",
       "    <tr>\n",
       "      <th>2</th>\n",
       "      <td>704239</td>\n",
       "      <td>The Union</td>\n",
       "      <td>[A, New, Jersey, construction, worker, goes, f...</td>\n",
       "    </tr>\n",
       "    <tr>\n",
       "      <th>3</th>\n",
       "      <td>573435</td>\n",
       "      <td>Bad Boys: Ride or Die</td>\n",
       "      <td>[After, their, late, former, Captain, is, fram...</td>\n",
       "    </tr>\n",
       "    <tr>\n",
       "      <th>4</th>\n",
       "      <td>519182</td>\n",
       "      <td>Despicable Me 4</td>\n",
       "      <td>[Gru, and, Lucy, and, their, girls—Margo,, Edi...</td>\n",
       "    </tr>\n",
       "    <tr>\n",
       "      <th>...</th>\n",
       "      <td>...</td>\n",
       "      <td>...</td>\n",
       "      <td>...</td>\n",
       "    </tr>\n",
       "    <tr>\n",
       "      <th>4997</th>\n",
       "      <td>297090</td>\n",
       "      <td>The Torture Club</td>\n",
       "      <td>[The, \"Torture, Club\", is, an, official, after...</td>\n",
       "    </tr>\n",
       "    <tr>\n",
       "      <th>4998</th>\n",
       "      <td>764835</td>\n",
       "      <td>The Desperate Hour</td>\n",
       "      <td>[A, woman, desperately, races, to, save, her, ...</td>\n",
       "    </tr>\n",
       "    <tr>\n",
       "      <th>4999</th>\n",
       "      <td>13813</td>\n",
       "      <td>Defiance</td>\n",
       "      <td>[Based, on, a, true, story,, during, World, Wa...</td>\n",
       "    </tr>\n",
       "    <tr>\n",
       "      <th>5000</th>\n",
       "      <td>16617</td>\n",
       "      <td>Mindhunters</td>\n",
       "      <td>[Trainees, in, the, FBI's, psychological, prof...</td>\n",
       "    </tr>\n",
       "    <tr>\n",
       "      <th>5001</th>\n",
       "      <td>9101</td>\n",
       "      <td>Down Periscope</td>\n",
       "      <td>[Maverick, Navy, Lieutenant, Commander, Tom, D...</td>\n",
       "    </tr>\n",
       "  </tbody>\n",
       "</table>\n",
       "<p>4840 rows × 3 columns</p>\n",
       "</div>"
      ],
      "text/plain": [
       "           id                  title  \\\n",
       "0      533535   Deadpool & Wolverine   \n",
       "1     1022789           Inside Out 2   \n",
       "2      704239              The Union   \n",
       "3      573435  Bad Boys: Ride or Die   \n",
       "4      519182        Despicable Me 4   \n",
       "...       ...                    ...   \n",
       "4997   297090       The Torture Club   \n",
       "4998   764835     The Desperate Hour   \n",
       "4999    13813               Defiance   \n",
       "5000    16617            Mindhunters   \n",
       "5001     9101         Down Periscope   \n",
       "\n",
       "                                                   tags  \n",
       "0     [A, listless, Wade, Wilson, toils, away, in, c...  \n",
       "1     [Teenager, Riley's, mind, headquarters, is, un...  \n",
       "2     [A, New, Jersey, construction, worker, goes, f...  \n",
       "3     [After, their, late, former, Captain, is, fram...  \n",
       "4     [Gru, and, Lucy, and, their, girls—Margo,, Edi...  \n",
       "...                                                 ...  \n",
       "4997  [The, \"Torture, Club\", is, an, official, after...  \n",
       "4998  [A, woman, desperately, races, to, save, her, ...  \n",
       "4999  [Based, on, a, true, story,, during, World, Wa...  \n",
       "5000  [Trainees, in, the, FBI's, psychological, prof...  \n",
       "5001  [Maverick, Navy, Lieutenant, Commander, Tom, D...  \n",
       "\n",
       "[4840 rows x 3 columns]"
      ]
     },
     "execution_count": 163,
     "metadata": {},
     "output_type": "execute_result"
    }
   ],
   "source": [
    "new_df"
   ]
  },
  {
   "cell_type": "code",
   "execution_count": 165,
   "metadata": {},
   "outputs": [],
   "source": [
    "new_df['tags'] = new_df['tags'].apply(lambda x: ' '.join(x))"
   ]
  },
  {
   "cell_type": "markdown",
   "metadata": {},
   "source": [
    "## Vectorizing strings"
   ]
  },
  {
   "cell_type": "code",
   "execution_count": 166,
   "metadata": {},
   "outputs": [],
   "source": [
    "cv = CountVectorizer(max_features=5000, stop_words='english')"
   ]
  },
  {
   "cell_type": "code",
   "execution_count": 171,
   "metadata": {},
   "outputs": [],
   "source": [
    "vector = cv.fit_transform(new_df['tags']).toarray()"
   ]
  },
  {
   "cell_type": "code",
   "execution_count": 172,
   "metadata": {},
   "outputs": [
    {
     "data": {
      "text/plain": [
       "array([[0, 0, 0, ..., 0, 0, 0],\n",
       "       [0, 0, 0, ..., 0, 0, 0],\n",
       "       [0, 0, 0, ..., 0, 0, 0],\n",
       "       ...,\n",
       "       [0, 0, 0, ..., 0, 0, 0],\n",
       "       [0, 0, 0, ..., 0, 0, 0],\n",
       "       [0, 0, 0, ..., 0, 0, 0]], dtype=int64)"
      ]
     },
     "execution_count": 172,
     "metadata": {},
     "output_type": "execute_result"
    }
   ],
   "source": [
    "vector"
   ]
  },
  {
   "cell_type": "code",
   "execution_count": 173,
   "metadata": {},
   "outputs": [
    {
     "data": {
      "text/plain": [
       "(4840, 5000)"
      ]
     },
     "execution_count": 173,
     "metadata": {},
     "output_type": "execute_result"
    }
   ],
   "source": [
    "vector.shape"
   ]
  },
  {
   "cell_type": "code",
   "execution_count": 176,
   "metadata": {},
   "outputs": [],
   "source": [
    "similarity = cosine_similarity(vector)"
   ]
  },
  {
   "cell_type": "code",
   "execution_count": 177,
   "metadata": {},
   "outputs": [
    {
     "data": {
      "text/plain": [
       "array([[1.        , 0.02550722, 0.07147417, ..., 0.02973505, 0.        ,\n",
       "        0.02438299],\n",
       "       [0.02550722, 1.        , 0.07930516, ..., 0.        , 0.        ,\n",
       "        0.03607265],\n",
       "       [0.07147417, 0.07930516, 1.        , ..., 0.03081668, 0.        ,\n",
       "        0.02526993],\n",
       "       ...,\n",
       "       [0.02973505, 0.        , 0.03081668, ..., 1.        , 0.03268602,\n",
       "        0.04205171],\n",
       "       [0.        , 0.        , 0.        , ..., 0.03268602, 1.        ,\n",
       "        0.        ],\n",
       "       [0.02438299, 0.03607265, 0.02526993, ..., 0.04205171, 0.        ,\n",
       "        1.        ]])"
      ]
     },
     "execution_count": 177,
     "metadata": {},
     "output_type": "execute_result"
    }
   ],
   "source": [
    "similarity"
   ]
  },
  {
   "cell_type": "code",
   "execution_count": 180,
   "metadata": {},
   "outputs": [
    {
     "data": {
      "text/plain": [
       "1988"
      ]
     },
     "execution_count": 180,
     "metadata": {},
     "output_type": "execute_result"
    }
   ],
   "source": [
    "new_df[new_df['title'] == 'The Lego Movie'].index[0]"
   ]
  },
  {
   "cell_type": "code",
   "execution_count": 181,
   "metadata": {},
   "outputs": [],
   "source": [
    "def recommend(movie):\n",
    "    index = new_df[new_df['title'] == movie].index[0]\n",
    "    distances = sorted(list(enumerate(similarity[index])), reverse=True, key=lambda x:x[1])\n",
    "    for i in distances[1:6]:\n",
    "        print(new_df.iloc[i[0]].title)"
   ]
  },
  {
   "cell_type": "code",
   "execution_count": 185,
   "metadata": {},
   "outputs": [
    {
     "name": "stdout",
     "output_type": "stream",
     "text": [
      "Deadpool 2\n",
      "Deadpool\n",
      "Superhero Movie\n",
      "Deadpool: No Good Deed\n",
      "Ultraman: Rising\n"
     ]
    }
   ],
   "source": [
    "recommend('Deadpool & Wolverine')"
   ]
  },
  {
   "cell_type": "code",
   "execution_count": 187,
   "metadata": {},
   "outputs": [],
   "source": [
    "import pickle"
   ]
  },
  {
   "cell_type": "code",
   "execution_count": 188,
   "metadata": {},
   "outputs": [],
   "source": [
    "pickle.dump(new_df, open('movies.pkl', 'wb'))\n",
    "pickle.dump(similarity, open('similarity.pkl', 'wb'))"
   ]
  },
  {
   "cell_type": "markdown",
   "metadata": {},
   "source": [
    "### Processing for fetching poster path"
   ]
  },
  {
   "cell_type": "code",
   "execution_count": 202,
   "metadata": {},
   "outputs": [
    {
     "data": {
      "text/plain": [
       "'/d9CTnTHip1RbVi2OQbA2LJJQAGI.jpg'"
      ]
     },
     "execution_count": 202,
     "metadata": {},
     "output_type": "execute_result"
    }
   ],
   "source": [
    "poster_paths[poster_paths['id'] == '704239']['poster_path'].values[0]"
   ]
  },
  {
   "cell_type": "code",
   "execution_count": 203,
   "metadata": {},
   "outputs": [
    {
     "data": {
      "text/html": [
       "<div>\n",
       "<style scoped>\n",
       "    .dataframe tbody tr th:only-of-type {\n",
       "        vertical-align: middle;\n",
       "    }\n",
       "\n",
       "    .dataframe tbody tr th {\n",
       "        vertical-align: top;\n",
       "    }\n",
       "\n",
       "    .dataframe thead th {\n",
       "        text-align: right;\n",
       "    }\n",
       "</style>\n",
       "<table border=\"1\" class=\"dataframe\">\n",
       "  <thead>\n",
       "    <tr style=\"text-align: right;\">\n",
       "      <th></th>\n",
       "      <th>id</th>\n",
       "      <th>title</th>\n",
       "      <th>tags</th>\n",
       "    </tr>\n",
       "  </thead>\n",
       "  <tbody>\n",
       "    <tr>\n",
       "      <th>2</th>\n",
       "      <td>704239</td>\n",
       "      <td>The Union</td>\n",
       "      <td>A New Jersey construction worker goes from reg...</td>\n",
       "    </tr>\n",
       "  </tbody>\n",
       "</table>\n",
       "</div>"
      ],
      "text/plain": [
       "       id      title                                               tags\n",
       "2  704239  The Union  A New Jersey construction worker goes from reg..."
      ]
     },
     "execution_count": 203,
     "metadata": {},
     "output_type": "execute_result"
    }
   ],
   "source": [
    "new_df[new_df['id'] == '704239']"
   ]
  }
 ],
 "metadata": {
  "kernelspec": {
   "display_name": "Python 3",
   "language": "python",
   "name": "python3"
  },
  "language_info": {
   "codemirror_mode": {
    "name": "ipython",
    "version": 3
   },
   "file_extension": ".py",
   "mimetype": "text/x-python",
   "name": "python",
   "nbconvert_exporter": "python",
   "pygments_lexer": "ipython3",
   "version": "3.12.4"
  },
  "orig_nbformat": 4
 },
 "nbformat": 4,
 "nbformat_minor": 2
}
